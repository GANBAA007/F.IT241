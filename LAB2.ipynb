{
 "cells": [
  {
   "cell_type": "code",
   "execution_count": 4,
   "metadata": {},
   "outputs": [
    {
     "name": "stdout",
     "output_type": "stream",
     "text": [
      "7.0\n"
     ]
    }
   ],
   "source": [
    "import math as mt\n",
    "\n",
    "def func(x):\n",
    "    y=mt.pow(x, 2)+3\n",
    "    print(y)\n",
    "    \n",
    "func(2)"
   ]
  },
  {
   "cell_type": "code",
   "execution_count": 11,
   "metadata": {},
   "outputs": [],
   "source": [
    "import math as mt \n",
    "\n",
    "def divede (x, y):\n",
    "    # if x%y!=0 or y%x!=0:\n",
    "    #     print('hoyr too bie biedee uk huvaagdana')\n",
    "    #     return\n",
    "    if x%y==0 :\n",
    "        x=x/y\n",
    "        print(x)\n",
    "        return TypeError\n",
    "    elif y%x==0:\n",
    "        y=y/x\n",
    "        print(y)\n",
    "        return\n",
    "    \n",
    "    "
   ]
  },
  {
   "cell_type": "code",
   "execution_count": 13,
   "metadata": {},
   "outputs": [],
   "source": [
    "divede(4, 7)"
   ]
  },
  {
   "cell_type": "code",
   "execution_count": 18,
   "metadata": {},
   "outputs": [],
   "source": [
    "\n",
    "\n",
    "def checkint(x):\n",
    "    x = x.replace(\"-\", \"0\")\n",
    "    x = x.replace(\".\", \"0\")\n",
    "    print(x.isdigit())"
   ]
  },
  {
   "cell_type": "code",
   "execution_count": 21,
   "metadata": {},
   "outputs": [
    {
     "name": "stdout",
     "output_type": "stream",
     "text": [
      "False\n"
     ]
    }
   ],
   "source": [
    "checkint(\"12314\")"
   ]
  }
 ],
 "metadata": {
  "kernelspec": {
   "display_name": "Python 3",
   "language": "python",
   "name": "python3"
  },
  "language_info": {
   "codemirror_mode": {
    "name": "ipython",
    "version": 3
   },
   "file_extension": ".py",
   "mimetype": "text/x-python",
   "name": "python",
   "nbconvert_exporter": "python",
   "pygments_lexer": "ipython3",
   "version": "3.11.9"
  }
 },
 "nbformat": 4,
 "nbformat_minor": 2
}
