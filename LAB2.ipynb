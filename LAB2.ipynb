{
 "cells": [
  {
   "cell_type": "code",
   "execution_count": 35,
   "metadata": {},
   "outputs": [
    {
     "name": "stdout",
     "output_type": "stream",
     "text": [
      "7.0\n"
     ]
    }
   ],
   "source": [
    "import math as mt\n",
    "\n",
    "def func(x):\n",
    "    y=mt.pow(x, 2)+3\n",
    "    print(y)\n",
    "    \n",
    "func(2)"
   ]
  },
  {
   "cell_type": "code",
   "execution_count": 33,
   "metadata": {},
   "outputs": [],
   "source": [
    "import math as mt \n",
    "\n",
    "def divide (x, y):\n",
    "\n",
    "    if x%y==0 :\n",
    "        x=x/y\n",
    "        print(x)\n",
    "        return \n",
    "    elif y%x==0:\n",
    "        y=y/x\n",
    "        print(y)\n",
    "        return\n",
    "    else:\n",
    "        return (\"huvaagdahgui\")\n",
    "    \n",
    "    "
   ]
  },
  {
   "cell_type": "code",
   "execution_count": 34,
   "metadata": {},
   "outputs": [
    {
     "data": {
      "text/plain": [
       "'huvaagdahgui'"
      ]
     },
     "execution_count": 34,
     "metadata": {},
     "output_type": "execute_result"
    }
   ],
   "source": [
    "divide(4, 7)"
   ]
  },
  {
   "cell_type": "code",
   "execution_count": 18,
   "metadata": {},
   "outputs": [],
   "source": [
    "def checkint(x):\n",
    "    x = x.replace(\"-\", \"0\")\n",
    "    x = x.replace(\".\", \"0\")\n",
    "    print(x.isdigit())"
   ]
  },
  {
   "cell_type": "code",
   "execution_count": 21,
   "metadata": {},
   "outputs": [
    {
     "name": "stdout",
     "output_type": "stream",
     "text": [
      "False\n"
     ]
    }
   ],
   "source": [
    "checkint(\"12314\")"
   ]
  },
  {
   "cell_type": "code",
   "execution_count": 10,
   "metadata": {},
   "outputs": [
    {
     "name": "stdout",
     "output_type": "stream",
     "text": [
      "['Bat', 'Bold', 'Saraa', 'Bolor'] ['Bat', 'Bold', 'Saraa', 'Bolor']\n",
      "['Bat', 'Baatar', 'Saraa', 'Bolor'] ['Bat', 'Baatar', 'Saraa', 'Bolor']\n"
     ]
    }
   ],
   "source": [
    "a = [\"Bat\", \"Bold\", \"Naraa\", \"Bolor\"]\n",
    "b = a\n",
    "b[2]=\"Saraa\"\n",
    "print(a, b)\n",
    "c = a\n",
    "c[1]=\"Baatar\"\n",
    "print(a, c)"
   ]
  },
  {
   "cell_type": "code",
   "execution_count": 13,
   "metadata": {},
   "outputs": [
    {
     "name": "stdout",
     "output_type": "stream",
     "text": [
      "0\n",
      "2\n",
      "4\n",
      "6\n",
      "8\n",
      "10\n",
      "12\n",
      "14\n",
      "16\n",
      "18\n",
      "20\n",
      "22\n",
      "24\n",
      "26\n",
      "28\n",
      "30\n",
      "32\n",
      "34\n",
      "36\n",
      "38\n",
      "40\n",
      "42\n",
      "44\n",
      "46\n",
      "48\n",
      "50\n"
     ]
    }
   ],
   "source": [
    "for i in range(0, 51):\n",
    "    if i%2==0:\n",
    "        print(i)"
   ]
  },
  {
   "cell_type": "code",
   "execution_count": 16,
   "metadata": {},
   "outputs": [
    {
     "name": "stdout",
     "output_type": "stream",
     "text": [
      "Output:\n",
      "['2025', '01', '28', '18', '42', '51.184539']\n"
     ]
    }
   ],
   "source": [
    "import datetime\n",
    "now = datetime.datetime.now()\n",
    "# print (\"Current date and time : \")\n",
    "# print (now.strftime(\"%Y-%m-%d %H:%M:%S\"))\n",
    "\n",
    "datetime_parts = [\n",
    "    now.strftime(\"%Y\"),\n",
    "    now.strftime(\"%m\"),\n",
    "    now.strftime(\"%d\"),\n",
    "    now.strftime(\"%H\"),\n",
    "    now.strftime(\"%M\"),\n",
    "    now.strftime(\"%S.%f\")\n",
    "]\n",
    "print(\"Output:\")\n",
    "print(datetime_parts)"
   ]
  },
  {
   "cell_type": "code",
   "execution_count": 26,
   "metadata": {},
   "outputs": [
    {
     "name": "stdout",
     "output_type": "stream",
     "text": [
      "['asdasdasd', 'asdasdasda', 'sdasdasda']\n"
     ]
    }
   ],
   "source": [
    "import re\n",
    "\n",
    "m = input(\"Enter a string: \")\n",
    "m = re.split(r\"[ .,]\", m)\n",
    "print(m)\n"
   ]
  },
  {
   "cell_type": "code",
   "execution_count": 42,
   "metadata": {},
   "outputs": [
    {
     "name": "stdout",
     "output_type": "stream",
     "text": [
      "[['bat', 'bold', 'saraa', 'ganaa', 'dulam'], ['onon'], ['solongo', 'bulganaa']]\n",
      "['bat', 'bold', 'dulam', 'ganaa', 'saraa']\n",
      "['Purev', 'Saikhnaa', 'Saran', 'Zaya', 'onon']\n",
      "['Sarnai', 'bulganaa', 'erdene', 'khishgee', 'solongo']\n"
     ]
    }
   ],
   "source": [
    "l = [\"bat\",\"bold\",\"saraa\",\"ganaa\",\"dulam\"]\n",
    "t = [\"onon\"]\n",
    "d = [\"solongo\",\"bulganaa\"]\n",
    "p = [l, t, d]\n",
    "print(p)\n",
    "t.extend([\"Saran\", \"Saikhnaa\", \"Zaya\", \"Purev\"])\n",
    "d.extend([\"erdene\", \"khishgee\", \"Sarnai\"])\n",
    "\n",
    "l.sort()\n",
    "t.sort()\n",
    "d.sort()\n",
    "\n",
    "print(l)\n",
    "print(t)\n",
    "print(d)\n",
    "\n",
    "\n",
    "\n",
    "\n"
   ]
  },
  {
   "cell_type": "code",
   "execution_count": 45,
   "metadata": {},
   "outputs": [
    {
     "name": "stdout",
     "output_type": "stream",
     "text": [
      "{'bat': '18', 'ankhaa': '26', 'dorj': '16', 'cold': '35'}\n",
      "{'ankhaa': '26', 'bat': '18', 'cold': '35', 'dorj': '16'}\n",
      "{'dorj': '16', 'bat': '18', 'ankhaa': '26', 'cold': '35'}\n"
     ]
    }
   ],
   "source": [
    "anket1 = {\n",
    "    'bat':'18',\n",
    "    'ankhaa':'26'\n",
    "}\n",
    "anket2 = {\n",
    "    'dorj':'16',\n",
    "    'cold':'35'\n",
    "}\n",
    "anket1.update(anket2)\n",
    "print(anket1)\n",
    "nereer = dict(sorted(anket1.items()))\n",
    "nasaar = dict(sorted(anket1.items(), key=lambda item: int(item[1])))\n",
    "\n",
    "print(nereer)\n",
    "print(nasaar)"
   ]
  }
 ],
 "metadata": {
  "kernelspec": {
   "display_name": "Python 3",
   "language": "python",
   "name": "python3"
  },
  "language_info": {
   "codemirror_mode": {
    "name": "ipython",
    "version": 3
   },
   "file_extension": ".py",
   "mimetype": "text/x-python",
   "name": "python",
   "nbconvert_exporter": "python",
   "pygments_lexer": "ipython3",
   "version": "3.11.9"
  }
 },
 "nbformat": 4,
 "nbformat_minor": 2
}
